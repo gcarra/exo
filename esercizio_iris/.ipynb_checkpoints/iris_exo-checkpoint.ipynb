{
 "cells": [
  {
   "cell_type": "markdown",
   "metadata": {},
   "source": [
    "# Objectif: classifier les Iris en trois categories\n",
    "1.       Check for identifiable clusters in the data\n",
    "2.       Assess the accuracy of these clusters based on species\n",
    "3.       Build a model to predict the species of samples\n",
    "4.       Asses the accuracy of the model’s predictions based on actual species\n",
    "5.       Assess the model’s ability to predict each species\n",
    "6.       Assess the accuracy of the model to predict out of sample data"
   ]
  },
  {
   "cell_type": "markdown",
   "metadata": {},
   "source": [
    "# Analyse donnée \n",
    "\n",
    "-> nous avons des données étiquetées : 4 attributs numerique, 1 target categorial, 150 samples\n",
    "\n",
    "attributs: SepalLengthCm, SepalWidthCm, PetalLengthCm, PetalWidthCm\n",
    "targets: species, discret => apprentissage supervisé, problème de classification\n",
    "\n",
    "-> les trois classes sont également répresentées dans l'ensemble d'apprentissage\n",
    "-> nous n'avons pas des valeurs manquants"
   ]
  },
  {
   "cell_type": "code",
   "execution_count": 86,
   "metadata": {
    "scrolled": true
   },
   "outputs": [
    {
     "ename": "ModuleNotFoundError",
     "evalue": "No module named 'pandas_ml'",
     "output_type": "error",
     "traceback": [
      "\u001b[0;31m---------------------------------------------------------------------------\u001b[0m",
      "\u001b[0;31mModuleNotFoundError\u001b[0m                       Traceback (most recent call last)",
      "\u001b[0;32m<ipython-input-86-8bce5448e70f>\u001b[0m in \u001b[0;36m<module>\u001b[0;34m()\u001b[0m\n\u001b[1;32m     18\u001b[0m \u001b[0;32mfrom\u001b[0m \u001b[0msklearn\u001b[0m\u001b[0;34m.\u001b[0m\u001b[0mmodel_selection\u001b[0m \u001b[0;32mimport\u001b[0m \u001b[0mGridSearchCV\u001b[0m\u001b[0;34m,\u001b[0m \u001b[0mKFold\u001b[0m\u001b[0;34m,\u001b[0m \u001b[0mtrain_test_split\u001b[0m\u001b[0;34m\u001b[0m\u001b[0m\n\u001b[1;32m     19\u001b[0m \u001b[0;32mfrom\u001b[0m \u001b[0msklearn\u001b[0m\u001b[0;34m.\u001b[0m\u001b[0mmetrics\u001b[0m \u001b[0;32mimport\u001b[0m \u001b[0maccuracy_score\u001b[0m\u001b[0;34m,\u001b[0m \u001b[0mconfusion_matrix\u001b[0m\u001b[0;34m\u001b[0m\u001b[0m\n\u001b[0;32m---> 20\u001b[0;31m \u001b[0;32mfrom\u001b[0m \u001b[0mpandas_ml\u001b[0m \u001b[0;32mimport\u001b[0m \u001b[0mConfusionMatrix\u001b[0m\u001b[0;34m\u001b[0m\u001b[0m\n\u001b[0m\u001b[1;32m     21\u001b[0m \u001b[0;31m###############\u001b[0m\u001b[0;34m\u001b[0m\u001b[0;34m\u001b[0m\u001b[0m\n\u001b[1;32m     22\u001b[0m \u001b[0;31m# import data #\u001b[0m\u001b[0;34m\u001b[0m\u001b[0;34m\u001b[0m\u001b[0m\n",
      "\u001b[0;31mModuleNotFoundError\u001b[0m: No module named 'pandas_ml'"
     ]
    }
   ],
   "source": [
    "#############\n",
    "# packages ##\n",
    "#############\n",
    "# algebra\n",
    "import numpy as np\n",
    "\n",
    "# data treatment\n",
    "import pandas as pd\n",
    "\n",
    "# data visualization\n",
    "from matplotlib import pyplot as plt\n",
    "import seaborn as sns\n",
    "%matplotlib inline\n",
    "\n",
    "# modeling\n",
    "from sklearn.preprocessing import LabelEncoder, StandardScaler\n",
    "from sklearn.linear_model import LogisticRegression\n",
    "from sklearn.model_selection import GridSearchCV, KFold, train_test_split\n",
    "from sklearn.metrics import accuracy_score, confusion_matrix\n",
    "from pandas_ml import ConfusionMatrix\n",
    "###############\n",
    "# import data #\n",
    "###############\n",
    "data_o = pd.read_csv('Iris.csv')\n",
    "data_o = data_o.drop('Id', axis = 1)\n",
    "\n",
    "###########################\n",
    "# print data informations #\n",
    "############################\n",
    "print(data_o.info())\n",
    "print(data_o.describe(include = 'all'))\n",
    "print(data_o.pivot_table(index = 'Species', values = ['SepalLengthCm', 'SepalWidthCm', 'PetalLengthCm', 'PetalWidthCm'], aggfunc = np.mean))\n",
    "\n",
    "\n",
    "######################\n",
    "# data visualisation #  \n",
    "######################\n",
    "# are classes balanced ?\n",
    "sns.countplot('Species', data = data_o) \n",
    "\n",
    "# scatterplots\n",
    "le = LabelEncoder()\n",
    "fig, ax = plt.subplots()\n",
    "species_e = le.fit_transform(data_o['Species'])\n",
    "ax.scatter(data_o['SepalLengthCm'], data_o['PetalLengthCm'], c = species_e)\n",
    "sns.pairplot(data_o, hue = 'Species')\n",
    "\n",
    "fig2, ax2 = plt.subplots()\n",
    "# correlations \n",
    "corr_matrix = data_o.corr()\n",
    "sns.heatmap(corr_matrix, annot = True, ax = ax2)\n"
   ]
  },
  {
   "cell_type": "markdown",
   "metadata": {},
   "source": [
    "# conclusion analyse des donnée \n",
    "\n",
    "# question à poser au métier"
   ]
  },
  {
   "cell_type": "markdown",
   "metadata": {},
   "source": [
    "# Preprocessing and Modeling\n",
    "\n",
    "-> choix de l'algorithm: penalized logistic regression with penality l2, use cross validation to optimize C \n",
    "\n",
    "-> preprocessing, standardScaler aux attributs\n"
   ]
  },
  {
   "cell_type": "code",
   "execution_count": null,
   "metadata": {},
   "outputs": [],
   "source": [
    "# split data in test and learn datasets\n",
    "data_X = data_o.drop('Species', axis = 1)\n",
    "data_y = data_o['Species']\n",
    "train_X, test_X, train_y, test_y = train_test_split(data_X, data_y)\n",
    "\n",
    "# data preprocessing \n",
    "ss = StandardScaler()\n",
    "ss.fit_transform(train_X)\n",
    "ss.transform(test_X)\n",
    "\n",
    "LR_model = LogisticRegression()\n",
    "param_grid = { 'C' : [0.6, 1, 10, 30, 40] }\n",
    "cv = KFold(n_splits = 10, shuffle = True)\n",
    "LR_CV = GridSearchCV(estimator = LR_model, param_grid = param_grid, cv = cv )\n",
    "LR_CV.fit(train_X, train_y)\n",
    "predict_y = LR_CV.predict(test_X)\n",
    "print(LR_CV.best_params_)\n",
    "\n",
    "#############################\n",
    "# evaluation de l'algorithm #\n",
    "#############################\n",
    "print(accuracy_score(test_y, predict_y))\n",
    "\n",
    "conf_matrix = confusion_matrix(test_y, predict_y)\n",
    "sns.heatmap(conf_matrix, annot = True)\n",
    "plt.xlabel('Predicted values')\n",
    "plt.ylabel('Actual values')"
   ]
  },
  {
   "cell_type": "markdown",
   "metadata": {},
   "source": [
    "# Recommandation\n",
    "Est-ce que on peut introduire une autre feature qui peut nous aider à discerner les classes 1 et 2 ? "
   ]
  }
 ],
 "metadata": {
  "kernelspec": {
   "display_name": "Python 3",
   "language": "python",
   "name": "python3"
  },
  "language_info": {
   "codemirror_mode": {
    "name": "ipython",
    "version": 3
   },
   "file_extension": ".py",
   "mimetype": "text/x-python",
   "name": "python",
   "nbconvert_exporter": "python",
   "pygments_lexer": "ipython3",
   "version": "3.6.3"
  }
 },
 "nbformat": 4,
 "nbformat_minor": 2
}
